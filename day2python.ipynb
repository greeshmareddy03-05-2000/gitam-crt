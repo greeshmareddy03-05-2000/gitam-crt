{
 "cells": [
  {
   "cell_type": "markdown",
   "metadata": {},
   "source": [
    "# control statements:\n",
    "## for loop:\n",
    "## syn:\n",
    "### for var in sequence/iterable object:\n",
    "### statements\n",
    "          or\n",
    "### for var in range(start:stop:stepsize):\n",
    "###   statements\n",
    "          "
   ]
  },
  {
   "cell_type": "code",
   "execution_count": 5,
   "metadata": {},
   "outputs": [
    {
     "name": "stdout",
     "output_type": "stream",
     "text": [
      "20\n",
      "1\n",
      "3\n",
      "5\n",
      "7\n",
      "9\n",
      "11\n",
      "13\n",
      "15\n",
      "17\n",
      "19\n"
     ]
    }
   ],
   "source": [
    "# print 1 to 20 nos\n",
    "n=int(input(\"\"))\n",
    "for i in range(1,n+1,2):\n",
    "     print(i)\n"
   ]
  },
  {
   "cell_type": "code",
   "execution_count": 6,
   "metadata": {},
   "outputs": [
    {
     "name": "stdout",
     "output_type": "stream",
     "text": [
      "g\n",
      "r\n",
      "e\n",
      "e\n",
      "s\n",
      "h\n",
      "m\n",
      "a\n"
     ]
    }
   ],
   "source": [
    "str=\"greeshma\"\n",
    "for i in str:\n",
    "    print(i)"
   ]
  },
  {
   "cell_type": "code",
   "execution_count": 12,
   "metadata": {},
   "outputs": [
    {
     "name": "stdout",
     "output_type": "stream",
     "text": [
      "10\n",
      "20\n",
      "30\n",
      "40\n",
      "50\n"
     ]
    }
   ],
   "source": [
    "a=[10,20,30,40,50]\n",
    "for i in a:\n",
    "    print(i)"
   ]
  },
  {
   "cell_type": "code",
   "execution_count": 13,
   "metadata": {},
   "outputs": [
    {
     "name": "stdout",
     "output_type": "stream",
     "text": [
      "20\n",
      "10\n",
      "40\n",
      "60\n",
      "17\n"
     ]
    }
   ],
   "source": [
    "b=[20,10,40,60,17]\n",
    "for i in range(len(b)):\n",
    "    print(b[i])"
   ]
  },
  {
   "cell_type": "code",
   "execution_count": null,
   "metadata": {},
   "outputs": [],
   "source": [
    "# input:5\n",
    "#output:15\n",
    "#input:10\n",
    "#output:55\n",
    "#program to find sum of first n natural nos"
   ]
  },
  {
   "cell_type": "code",
   "execution_count": 16,
   "metadata": {},
   "outputs": [
    {
     "name": "stdout",
     "output_type": "stream",
     "text": [
      " 5\n",
      "15\n"
     ]
    }
   ],
   "source": [
    "n=int(input(\" \"))\n",
    "sum=0;\n",
    "for i in range (1,n+1):\n",
    "    sum=sum+i\n",
    "print(sum)"
   ]
  },
  {
   "cell_type": "code",
   "execution_count": 12,
   "metadata": {},
   "outputs": [
    {
     "name": "stdout",
     "output_type": "stream",
     "text": [
      "1\n",
      "2\n",
      "3\n",
      "4\n"
     ]
    }
   ],
   "source": [
    "for i in range (1,11):\n",
    "    if(i==5):\n",
    "        break\n",
    "    print(i)"
   ]
  },
  {
   "cell_type": "code",
   "execution_count": 17,
   "metadata": {},
   "outputs": [
    {
     "name": "stdout",
     "output_type": "stream",
     "text": [
      " 7\n",
      "prime\n"
     ]
    }
   ],
   "source": [
    "n=int(input(\" \"))\n",
    "count=0\n",
    "for i in range(1,n+1):\n",
    "    if(n%i==0):\n",
    "        count=count+1\n",
    "if(count==2):\n",
    "    print(\"prime\")\n",
    "else:\n",
    "    print(\"not prime\")"
   ]
  },
  {
   "cell_type": "code",
   "execution_count": 20,
   "metadata": {},
   "outputs": [
    {
     "name": "stdout",
     "output_type": "stream",
     "text": [
      " 13\n",
      "1\n",
      "2\n",
      "3\n",
      "4\n",
      "5\n",
      "6\n",
      "7\n",
      "8\n",
      "9\n",
      "10\n",
      "11\n",
      "12\n",
      "13\n"
     ]
    }
   ],
   "source": [
    "n=int(input(\" \"))\n",
    "i=1\n",
    "while(i<=n):\n",
    "     print(i)\n",
    "     i=i+1"
   ]
  },
  {
   "cell_type": "code",
   "execution_count": 21,
   "metadata": {},
   "outputs": [
    {
     "name": "stdout",
     "output_type": "stream",
     "text": [
      " 123\n",
      "3 2 1 "
     ]
    }
   ],
   "source": [
    "n=int(input(\" \"))\n",
    "while(n!=0):\n",
    "    r=n%10\n",
    "    print(r,end=\" \")\n",
    "    n=n//10"
   ]
  },
  {
   "cell_type": "code",
   "execution_count": 27,
   "metadata": {},
   "outputs": [
    {
     "name": "stdout",
     "output_type": "stream",
     "text": [
      " 123\n",
      "it is not polindrome\n"
     ]
    }
   ],
   "source": [
    "n=int(input(\" \"))\n",
    "num=n\n",
    "sum=0\n",
    "while(n!=0):\n",
    "     r=n%10\n",
    "     sum=sum*10+r\n",
    "     n=n//10\n",
    "if(sum==num):\n",
    "    print(\"it is polindrome\")\n",
    "else:\n",
    "    print(\"it is not polindrome\")"
   ]
  },
  {
   "cell_type": "markdown",
   "metadata": {},
   "source": [
    "## function \n",
    "## def fun_name(parameters):\n",
    "###         statements\n",
    "###         return "
   ]
  },
  {
   "cell_type": "code",
   "execution_count": 28,
   "metadata": {},
   "outputs": [
    {
     "name": "stdout",
     "output_type": "stream",
     "text": [
      "300\n",
      "29.3\n"
     ]
    }
   ],
   "source": [
    "def add(a,b):\n",
    "    print(a+b)\n",
    "    return\n",
    "add(100,200)\n",
    "add(12.5,16.8)"
   ]
  },
  {
   "cell_type": "code",
   "execution_count": null,
   "metadata": {},
   "outputs": [],
   "source": [
    "def fact(n):\n",
    "    f=1\n",
    "    i=1\n",
    "    while(i<=n):\n",
    "        f=f*i\n",
    "        i=i+1\n",
    "    return f\n",
    "print(fact(5))\n",
    "print(fact(6))"
   ]
  },
  {
   "cell_type": "code",
   "execution_count": null,
   "metadata": {},
   "outputs": [],
   "source": [
    "def evendigitsum\n",
    "    sum=0\n",
    "    while(n!=0):\n",
    "        r=n%10\n",
    "        if(r%2==0):\n",
    "            sum=sum+r\n",
    "        n=n//10\n",
    "    return sum\n",
    "print(evendigitsum(123456))"
   ]
  },
  {
   "cell_type": "code",
   "execution_count": null,
   "metadata": {},
   "outputs": [],
   "source": []
  },
  {
   "cell_type": "code",
   "execution_count": null,
   "metadata": {},
   "outputs": [],
   "source": []
  },
  {
   "cell_type": "code",
   "execution_count": null,
   "metadata": {},
   "outputs": [],
   "source": []
  },
  {
   "cell_type": "code",
   "execution_count": null,
   "metadata": {},
   "outputs": [],
   "source": []
  }
 ],
 "metadata": {
  "kernelspec": {
   "display_name": "Python 3",
   "language": "python",
   "name": "python3"
  },
  "language_info": {
   "codemirror_mode": {
    "name": "ipython",
    "version": 3
   },
   "file_extension": ".py",
   "mimetype": "text/x-python",
   "name": "python",
   "nbconvert_exporter": "python",
   "pygments_lexer": "ipython3",
   "version": "3.7.3"
  }
 },
 "nbformat": 4,
 "nbformat_minor": 2
}
