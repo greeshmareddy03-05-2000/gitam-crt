{
 "cells": [
  {
   "cell_type": "markdown",
   "metadata": {},
   "source": [
    "# collections in python\n",
    "# list\n",
    "# tuple\n",
    "# set\n",
    "# dictionary\n",
    "# list:\n",
    "# it is one of the datastructure\n",
    "# the items inside the list are seperated commas and enclosed in[]\n",
    "# ex: [12,67,90,100]\n",
    "# list zero index based\n",
    "# it is variable length\n",
    "# linear datastructure,consists of mixed\n",
    "# type of elements\n",
    "# ex:[12,\"gitam',12.6.\"hyd\"]"
   ]
  },
  {
   "cell_type": "code",
   "execution_count": 2,
   "metadata": {},
   "outputs": [
    {
     "name": "stdout",
     "output_type": "stream",
     "text": [
      "[12, 78, 9, 5, 8]\n"
     ]
    }
   ],
   "source": [
    "li=[12,78,9,5,8]\n",
    "print(li)"
   ]
  },
  {
   "cell_type": "code",
   "execution_count": 3,
   "metadata": {},
   "outputs": [
    {
     "name": "stdout",
     "output_type": "stream",
     "text": [
      "{'gitam', 23.6, 100, 12, 'hyd'}\n"
     ]
    }
   ],
   "source": [
    "li1={12,\"gitam\",\"hyd\",23.6,100}\n",
    "print(li1)"
   ]
  },
  {
   "cell_type": "code",
   "execution_count": 6,
   "metadata": {},
   "outputs": [
    {
     "name": "stdout",
     "output_type": "stream",
     "text": [
      "12\n"
     ]
    }
   ],
   "source": [
    "print(li[0])"
   ]
  },
  {
   "cell_type": "code",
   "execution_count": 7,
   "metadata": {},
   "outputs": [
    {
     "name": "stdout",
     "output_type": "stream",
     "text": [
      "9\n"
     ]
    }
   ],
   "source": [
    "print(li[2])"
   ]
  },
  {
   "cell_type": "code",
   "execution_count": 8,
   "metadata": {},
   "outputs": [
    {
     "name": "stdout",
     "output_type": "stream",
     "text": [
      "5\n"
     ]
    }
   ],
   "source": [
    "print(li[-2])"
   ]
  },
  {
   "cell_type": "code",
   "execution_count": 33,
   "metadata": {},
   "outputs": [
    {
     "name": "stdout",
     "output_type": "stream",
     "text": [
      "9\n"
     ]
    }
   ],
   "source": [
    "print(li[-3])"
   ]
  },
  {
   "cell_type": "code",
   "execution_count": 16,
   "metadata": {},
   "outputs": [
    {
     "name": "stdout",
     "output_type": "stream",
     "text": [
      "[]\n",
      "[90, 67]\n",
      "[12, 67, 24]\n"
     ]
    }
   ],
   "source": [
    "a=[12,90,67,80,24]\n",
    "print(a[2:1])\n",
    "print(a[1:3])\n",
    "print(a[::2])"
   ]
  },
  {
   "cell_type": "code",
   "execution_count": 17,
   "metadata": {},
   "outputs": [
    {
     "name": "stdout",
     "output_type": "stream",
     "text": [
      "['hyd', 'dyna', 'gitam', 1290, 2019]\n"
     ]
    }
   ],
   "source": [
    "b=[\"hyd\",\"dyna\",\"gitam\",1290,2019]\n",
    "print(b)"
   ]
  },
  {
   "cell_type": "code",
   "execution_count": 19,
   "metadata": {},
   "outputs": [
    {
     "name": "stdout",
     "output_type": "stream",
     "text": [
      "['vzg', 'dyna', 'gitam', 1290, 2019]\n"
     ]
    }
   ],
   "source": [
    "b[0]=\"vzg\"\n",
    "print(b)"
   ]
  },
  {
   "cell_type": "code",
   "execution_count": 21,
   "metadata": {},
   "outputs": [
    {
     "name": "stdout",
     "output_type": "stream",
     "text": [
      "['vzg', 'dyna', 'gitam']\n"
     ]
    }
   ],
   "source": [
    "del b[-1]\n",
    "print(b)"
   ]
  },
  {
   "cell_type": "code",
   "execution_count": 22,
   "metadata": {},
   "outputs": [],
   "source": [
    "del b"
   ]
  },
  {
   "cell_type": "code",
   "execution_count": 23,
   "metadata": {},
   "outputs": [
    {
     "name": "stdout",
     "output_type": "stream",
     "text": [
      "[12, 78, 9, 5, 8]\n"
     ]
    }
   ],
   "source": [
    "print(li)"
   ]
  },
  {
   "cell_type": "code",
   "execution_count": 24,
   "metadata": {},
   "outputs": [
    {
     "name": "stdout",
     "output_type": "stream",
     "text": [
      "5\n"
     ]
    }
   ],
   "source": [
    "print(len(li))"
   ]
  },
  {
   "cell_type": "code",
   "execution_count": 27,
   "metadata": {},
   "outputs": [
    {
     "name": "stdout",
     "output_type": "stream",
     "text": [
      "0\n",
      "1\n",
      "2\n",
      "3\n",
      "4\n"
     ]
    }
   ],
   "source": [
    "for i  in range(len(li)):\n",
    "    print(i)"
   ]
  },
  {
   "cell_type": "code",
   "execution_count": 28,
   "metadata": {},
   "outputs": [
    {
     "name": "stdout",
     "output_type": "stream",
     "text": [
      "0 1 2 3 4 "
     ]
    }
   ],
   "source": [
    "for i in range(len(li)):\n",
    "    print(i,end=\" \")"
   ]
  },
  {
   "cell_type": "code",
   "execution_count": 29,
   "metadata": {},
   "outputs": [
    {
     "name": "stdout",
     "output_type": "stream",
     "text": [
      "12 78 9 5 8 "
     ]
    }
   ],
   "source": [
    "for i in li:\n",
    "    print(i,end=\" \")"
   ]
  },
  {
   "cell_type": "code",
   "execution_count": 30,
   "metadata": {},
   "outputs": [
    {
     "name": "stdout",
     "output_type": "stream",
     "text": [
      "True\n"
     ]
    }
   ],
   "source": [
    "print (78 in li)"
   ]
  },
  {
   "cell_type": "code",
   "execution_count": 32,
   "metadata": {},
   "outputs": [
    {
     "name": "stdout",
     "output_type": "stream",
     "text": [
      "False\n"
     ]
    }
   ],
   "source": [
    "print(8 not in li)"
   ]
  },
  {
   "cell_type": "code",
   "execution_count": 34,
   "metadata": {},
   "outputs": [
    {
     "name": "stdout",
     "output_type": "stream",
     "text": [
      "78\n",
      "5\n",
      "112\n"
     ]
    }
   ],
   "source": [
    "# basic list functions\n",
    "# max,min,sum\n",
    "print(max(li))\n",
    "print(min(li))\n",
    "print(sum(li))"
   ]
  },
  {
   "cell_type": "code",
   "execution_count": 36,
   "metadata": {},
   "outputs": [
    {
     "name": "stdout",
     "output_type": "stream",
     "text": [
      "[100, 20, 9, 12, 78]\n",
      "[9, 12, 20, 78, 100]\n"
     ]
    }
   ],
   "source": [
    "# append,reverse,pop,insert,sort,are other functions\n",
    "li[0]=100\n",
    "li[1]=20\n",
    "print(li)\n",
    "li.sort()\n",
    "print(li)\n"
   ]
  },
  {
   "cell_type": "code",
   "execution_count": 37,
   "metadata": {},
   "outputs": [
    {
     "data": {
      "text/plain": [
       "100"
      ]
     },
     "execution_count": 37,
     "metadata": {},
     "output_type": "execute_result"
    }
   ],
   "source": [
    "li.pop()\n"
   ]
  },
  {
   "cell_type": "code",
   "execution_count": 38,
   "metadata": {},
   "outputs": [
    {
     "name": "stdout",
     "output_type": "stream",
     "text": [
      "[9, 12, 20, 78]\n"
     ]
    }
   ],
   "source": [
    "print(li)"
   ]
  },
  {
   "cell_type": "code",
   "execution_count": 41,
   "metadata": {},
   "outputs": [
    {
     "name": "stdout",
     "output_type": "stream",
     "text": [
      "[9, 20, 78]\n"
     ]
    }
   ],
   "source": [
    "li.pop(1)\n",
    "print(li)"
   ]
  },
  {
   "cell_type": "code",
   "execution_count": 42,
   "metadata": {},
   "outputs": [
    {
     "name": "stdout",
     "output_type": "stream",
     "text": [
      "[9, 20, 78, 25]\n"
     ]
    }
   ],
   "source": [
    "li.append(25)\n",
    "print(li)"
   ]
  },
  {
   "cell_type": "code",
   "execution_count": 43,
   "metadata": {},
   "outputs": [
    {
     "name": "stdout",
     "output_type": "stream",
     "text": [
      "[45, 9, 20, 78, 25]\n"
     ]
    }
   ],
   "source": [
    "li.insert (0,45)\n",
    "print(li)"
   ]
  },
  {
   "cell_type": "code",
   "execution_count": 44,
   "metadata": {},
   "outputs": [
    {
     "name": "stdout",
     "output_type": "stream",
     "text": [
      "[45, 9, 20, 78, 25, 13, 90]\n"
     ]
    }
   ],
   "source": [
    "b=[13,90]\n",
    "li.extend(b)\n",
    "print(li)"
   ]
  },
  {
   "cell_type": "code",
   "execution_count": 45,
   "metadata": {},
   "outputs": [
    {
     "name": "stdout",
     "output_type": "stream",
     "text": [
      "[45, 9, 20, 78, 25, 13, 90, 13, 90]\n"
     ]
    }
   ],
   "source": [
    "b=[13,90]\n",
    "li.extend(b)\n",
    "print(li)"
   ]
  },
  {
   "cell_type": "code",
   "execution_count": 46,
   "metadata": {},
   "outputs": [
    {
     "name": "stdout",
     "output_type": "stream",
     "text": [
      "4\n"
     ]
    }
   ],
   "source": [
    "print(li.index(25))"
   ]
  },
  {
   "cell_type": "code",
   "execution_count": 47,
   "metadata": {},
   "outputs": [
    {
     "name": "stdout",
     "output_type": "stream",
     "text": [
      "[45, 9, 20, 78, 25, 13, 90, 13, 90, 100, 100]\n"
     ]
    }
   ],
   "source": [
    "li.extend([100,100])\n",
    "print(li)"
   ]
  },
  {
   "cell_type": "code",
   "execution_count": 48,
   "metadata": {},
   "outputs": [
    {
     "name": "stdout",
     "output_type": "stream",
     "text": [
      "2\n"
     ]
    }
   ],
   "source": [
    "print(li.count(100))"
   ]
  },
  {
   "cell_type": "markdown",
   "metadata": {},
   "source": [
    "# write a user defined function to find the largest number from the list"
   ]
  },
  {
   "cell_type": "code",
   "execution_count": 52,
   "metadata": {},
   "outputs": [
    {
     "name": "stdout",
     "output_type": "stream",
     "text": [
      "1\n"
     ]
    }
   ],
   "source": [
    "def minNum(li):\n",
    "    li.sort()\n",
    "    return li[0]\n",
    "li=[100,23,1,6,89,90]\n",
    "print(minNum(li))"
   ]
  },
  {
   "cell_type": "markdown",
   "metadata": {},
   "source": [
    "# tuple :\n",
    "# it is represented in() and seperated by commas\n",
    "# tupples are immutable\n",
    "# only we can access tuple items and\n",
    "# we cannot update,delete and modify items of tuple"
   ]
  },
  {
   "cell_type": "code",
   "execution_count": 54,
   "metadata": {},
   "outputs": [
    {
     "name": "stdout",
     "output_type": "stream",
     "text": [
      "(12, 90, 'gitam', 'hyd')\n",
      "<class 'tuple'>\n",
      "4\n"
     ]
    }
   ],
   "source": [
    "a=(12,90,\"gitam\",\"hyd\")\n",
    "print(a)\n",
    "print(type(a))\n",
    "print(len(a))"
   ]
  },
  {
   "cell_type": "markdown",
   "metadata": {},
   "source": [
    "#  dictionary\n",
    "#  the items in dictionary are seperated by\n",
    "#  key value pairs and enclosed in {and}\n",
    "#  ex: d={1:\"hyd\".2:\"vzy\",3:\"bgr\"}"
   ]
  },
  {
   "cell_type": "code",
   "execution_count": 55,
   "metadata": {},
   "outputs": [
    {
     "name": "stdout",
     "output_type": "stream",
     "text": [
      "{1: 'hyd', 2: 'vzy', 3: 'bgr'}\n",
      "<class 'dict'>\n"
     ]
    }
   ],
   "source": [
    "d={1:\"hyd\",2:\"vzy\",3:\"bgr\"}\n",
    "print(d)\n",
    "print(type(d))"
   ]
  },
  {
   "cell_type": "code",
   "execution_count": 57,
   "metadata": {},
   "outputs": [
    {
     "name": "stdout",
     "output_type": "stream",
     "text": [
      "{1: 'hyd', 2: 'vzy', 3: 'bgr', 4: 'usa'}\n"
     ]
    }
   ],
   "source": [
    "d[4]=\"usa\"\n",
    "print(d)"
   ]
  },
  {
   "cell_type": "code",
   "execution_count": 58,
   "metadata": {},
   "outputs": [
    {
     "name": "stdout",
     "output_type": "stream",
     "text": [
      "{1: 'hyd', 2: 'vzy', 3: 'bgr'}\n"
     ]
    }
   ],
   "source": [
    "del d[4]\n",
    "print(d)"
   ]
  },
  {
   "cell_type": "code",
   "execution_count": 59,
   "metadata": {},
   "outputs": [
    {
     "name": "stdout",
     "output_type": "stream",
     "text": [
      "dict_keys([1, 2, 3])\n",
      "dict_values(['hyd', 'vzy', 'bgr'])\n",
      "dict_items([(1, 'hyd'), (2, 'vzy'), (3, 'bgr')])\n"
     ]
    }
   ],
   "source": [
    "#keys(),values() and items()\n",
    "print(d.keys())\n",
    "print(d.values())\n",
    "print(d.items())"
   ]
  },
  {
   "cell_type": "code",
   "execution_count": 60,
   "metadata": {},
   "outputs": [
    {
     "name": "stdout",
     "output_type": "stream",
     "text": [
      "{2: 'gitam'}\n",
      "{}\n"
     ]
    }
   ],
   "source": [
    "#pop(),clear(),del()\n",
    "dd={2:\"gitam\"}\n",
    "print(dd)\n",
    "dd.clear()\n",
    "print(dd)"
   ]
  },
  {
   "cell_type": "code",
   "execution_count": 61,
   "metadata": {},
   "outputs": [
    {
     "name": "stdout",
     "output_type": "stream",
     "text": [
      "{1: 'red', 2: 'green', 3: 'blue', 4: 'yellow'}\n"
     ]
    }
   ],
   "source": [
    "a=[1,2,3,4]\n",
    "b=[\"red\",\"green\",\"blue\",\"yellow\"]\n",
    "s={}\n",
    "for i in range(len(a)):\n",
    "    s[a[i]]=b[i]\n",
    "print(s)"
   ]
  },
  {
   "cell_type": "raw",
   "metadata": {},
   "source": []
  },
  {
   "cell_type": "code",
   "execution_count": 62,
   "metadata": {},
   "outputs": [
    {
     "name": "stdout",
     "output_type": "stream",
     "text": [
      "promizeit\n",
      "<class 'str'>\n",
      "p\n",
      "r\n",
      "o\n",
      "m\n",
      "i\n",
      "z\n",
      "e\n",
      "i\n",
      "t\n"
     ]
    }
   ],
   "source": [
    "str=\"promizeit\"\n",
    "print(str)\n",
    "print(type(str))\n",
    "for i in str:\n",
    "    print(i)\n",
    "print(len(str)) #to get the length"
   ]
  },
  {
   "cell_type": "code",
   "execution_count": 63,
   "metadata": {},
   "outputs": [
    {
     "name": "stdout",
     "output_type": "stream",
     "text": [
      "p\n",
      "t\n",
      "tiezimorp\n",
      "tiezimorp\n",
      "romizeit\n",
      "romizei\n",
      "t\n",
      "i\n"
     ]
    }
   ],
   "source": [
    "str=\"promizeit\"\n",
    "print(str[0])\n",
    "print(str[-1])\n",
    "print(str[-1::-1])\n",
    "print(str[::-1])\n",
    "print(str[1::])\n",
    "print(str[1:-1])\n",
    "print(str[len(str)-1])\n",
    "print(str[-2])"
   ]
  },
  {
   "cell_type": "markdown",
   "metadata": {},
   "source": [
    "# replace(),upper(),lower(),isupper(),islower(),isdigit(),isalpha()\n",
    "# strip(),split(),endswith(),find(),capitalize(),title()\n",
    "# built in functions of strings"
   ]
  },
  {
   "cell_type": "code",
   "execution_count": 64,
   "metadata": {},
   "outputs": [
    {
     "name": "stdout",
     "output_type": "stream",
     "text": [
      "*  *  *  *  *  \n",
      "*  *  *  *  *  \n",
      "*  *  *  *  *  \n",
      "*  *  *  *  *  \n",
      "*  *  *  *  *  \n"
     ]
    }
   ],
   "source": [
    "for i in range(1,6):\n",
    "    for j in range(1,6):\n",
    "        print(\"* \",end=\" \")\n",
    "    print()"
   ]
  },
  {
   "cell_type": "code",
   "execution_count": 65,
   "metadata": {},
   "outputs": [
    {
     "name": "stdout",
     "output_type": "stream",
     "text": [
      "*  \n",
      "*  *  \n",
      "*  *  *  \n",
      "*  *  *  *  \n",
      "*  *  *  *  *  \n"
     ]
    }
   ],
   "source": [
    "for i in range(1,6):\n",
    "    for j in range(1,i+1):\n",
    "        print(\"* \",end=\" \")\n",
    "    print()"
   ]
  },
  {
   "cell_type": "code",
   "execution_count": 68,
   "metadata": {},
   "outputs": [
    {
     "ename": "SyntaxError",
     "evalue": "invalid syntax (<ipython-input-68-294fcbb289bb>, line 3)",
     "output_type": "error",
     "traceback": [
      "\u001b[1;36m  File \u001b[1;32m\"<ipython-input-68-294fcbb289bb>\"\u001b[1;36m, line \u001b[1;32m3\u001b[0m\n\u001b[1;33m    for j in range(1,6-i)\u001b[0m\n\u001b[1;37m                         ^\u001b[0m\n\u001b[1;31mSyntaxError\u001b[0m\u001b[1;31m:\u001b[0m invalid syntax\n"
     ]
    }
   ],
   "source": [
    "for i in range(1,6):\n",
    "    k=i\n",
    "    for j in range(1,6-i)\n",
    "    k=k-1\n",
    "    print(\" \",end=\" \")\n",
    "    for j in range(1.i+1):\n",
    "         print(\"*\",end=\" \")\n",
    "    print()"
   ]
  },
  {
   "cell_type": "code",
   "execution_count": null,
   "metadata": {},
   "outputs": [],
   "source": []
  },
  {
   "cell_type": "code",
   "execution_count": null,
   "metadata": {},
   "outputs": [],
   "source": []
  },
  {
   "cell_type": "code",
   "execution_count": null,
   "metadata": {},
   "outputs": [],
   "source": []
  },
  {
   "cell_type": "code",
   "execution_count": null,
   "metadata": {},
   "outputs": [],
   "source": []
  },
  {
   "cell_type": "code",
   "execution_count": null,
   "metadata": {},
   "outputs": [],
   "source": []
  },
  {
   "cell_type": "code",
   "execution_count": null,
   "metadata": {},
   "outputs": [],
   "source": []
  }
 ],
 "metadata": {
  "kernelspec": {
   "display_name": "Python 3",
   "language": "python",
   "name": "python3"
  },
  "language_info": {
   "codemirror_mode": {
    "name": "ipython",
    "version": 3
   },
   "file_extension": ".py",
   "mimetype": "text/x-python",
   "name": "python",
   "nbconvert_exporter": "python",
   "pygments_lexer": "ipython3",
   "version": "3.7.3"
  }
 },
 "nbformat": 4,
 "nbformat_minor": 2
}
